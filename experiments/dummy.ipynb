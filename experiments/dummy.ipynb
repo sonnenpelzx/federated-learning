{
 "cells": [
  {
   "cell_type": "code",
   "execution_count": 20,
   "metadata": {},
   "outputs": [
    {
     "name": "stdout",
     "output_type": "stream",
     "text": [
      "/Users/adamborgula/dev/bachelor_thesis/federated-learning\n"
     ]
    }
   ],
   "source": [
    "import os\n",
    "import sys\n",
    "nb_dir = os.path.split(os.getcwd())[0]\n",
    "print(nb_dir)\n",
    "if nb_dir not in sys.path:\n",
    "    sys.path.append(nb_dir)\n",
    "from models.Nets import CNNCifar, CNNMnist"
   ]
  },
  {
   "cell_type": "code",
   "execution_count": 31,
   "metadata": {},
   "outputs": [],
   "source": [
    "class Args():\n",
    "    # federated arguments\n",
    "    epochs = 1\n",
    "    num_users = 1\n",
    "    frac = 1\n",
    "    local_ep = 5\n",
    "    local_bs = 10\n",
    "    bs = 16\n",
    "    lr = 0.01\n",
    "    momentum = 0.5\n",
    "    split = 'user'\n",
    "\n",
    "    # model arguments\n",
    "    model = 'mlp'\n",
    "    kernel_num = 9\n",
    "    kernel_sizes = [3,4]\n",
    "    norm = 'batch_norm'\n",
    "    num_filters = 32\n",
    "    max_pool = True\n",
    "\n",
    "    # other arguments\n",
    "    dataset = 'mnist'\n",
    "    iid = True # action: store_true\n",
    "    num_classes = 10\n",
    "    num_channels = 3\n",
    "    gpu = 0\n",
    "    stopping_rounds = 10\n",
    "    verbose = False # action: store_true\n",
    "    seed = 1\n",
    "    all_clients = False # action: store_true\n",
    "    compression = 0.0\n",
    "    prune_epochs = 100\n",
    "    pruner = 'mag'\n",
    "    iters = 15\n",
    "\n",
    "    # test customization\n",
    "    save = False\n",
    "    show = True"
   ]
  },
  {
   "cell_type": "markdown",
   "metadata": {},
   "source": []
  },
  {
   "cell_type": "code",
   "execution_count": 32,
   "metadata": {},
   "outputs": [
    {
     "name": "stdout",
     "output_type": "stream",
     "text": [
      "CNNCifar(\n",
      "  (conv1): Conv2d(3, 6, kernel_size=(5, 5), stride=(1, 1))\n",
      "  (pool): MaxPool2d(kernel_size=2, stride=2, padding=0, dilation=1, ceil_mode=False)\n",
      "  (conv2): Conv2d(6, 16, kernel_size=(5, 5), stride=(1, 1))\n",
      "  (fc1): Linear(in_features=400, out_features=120, bias=True)\n",
      "  (fc2): Linear(in_features=120, out_features=84, bias=True)\n",
      "  (fc3): Linear(in_features=84, out_features=10, bias=True)\n",
      ")\n"
     ]
    }
   ],
   "source": [
    "args = Args()\n",
    "net = CNNCifar(args)\n",
    "print(net)"
   ]
  },
  {
   "cell_type": "code",
   "execution_count": 33,
   "metadata": {},
   "outputs": [
    {
     "name": "stdout",
     "output_type": "stream",
     "text": [
      "MODULE CNNCifar(\n",
      "  (conv1): Conv2d(3, 6, kernel_size=(5, 5), stride=(1, 1))\n",
      "  (pool): MaxPool2d(kernel_size=2, stride=2, padding=0, dilation=1, ceil_mode=False)\n",
      "  (conv2): Conv2d(6, 16, kernel_size=(5, 5), stride=(1, 1))\n",
      "  (fc1): Linear(in_features=400, out_features=120, bias=True)\n",
      "  (fc2): Linear(in_features=120, out_features=84, bias=True)\n",
      "  (fc3): Linear(in_features=84, out_features=10, bias=True)\n",
      ")\n",
      "param torch.Size([6, 3, 5, 5])\n",
      "param torch.Size([6])\n",
      "param torch.Size([16, 6, 5, 5])\n",
      "param torch.Size([16])\n",
      "param torch.Size([120, 400])\n",
      "param torch.Size([120])\n",
      "param torch.Size([84, 120])\n",
      "param torch.Size([84])\n",
      "param torch.Size([10, 84])\n",
      "param torch.Size([10])\n",
      "\n",
      "MODULE Conv2d(3, 6, kernel_size=(5, 5), stride=(1, 1))\n",
      "param torch.Size([6, 3, 5, 5])\n",
      "param torch.Size([6])\n",
      "\n",
      "MODULE MaxPool2d(kernel_size=2, stride=2, padding=0, dilation=1, ceil_mode=False)\n",
      "\n",
      "MODULE Conv2d(6, 16, kernel_size=(5, 5), stride=(1, 1))\n",
      "param torch.Size([16, 6, 5, 5])\n",
      "param torch.Size([16])\n",
      "\n",
      "MODULE Linear(in_features=400, out_features=120, bias=True)\n",
      "param torch.Size([120, 400])\n",
      "param torch.Size([120])\n",
      "\n",
      "MODULE Linear(in_features=120, out_features=84, bias=True)\n",
      "param torch.Size([84, 120])\n",
      "param torch.Size([84])\n",
      "\n",
      "MODULE Linear(in_features=84, out_features=10, bias=True)\n",
      "param torch.Size([10, 84])\n",
      "param torch.Size([10])\n",
      "\n"
     ]
    }
   ],
   "source": [
    "for module in net.modules():\n",
    "  print('MODULE', module)\n",
    "  for param in module.parameters():\n",
    "    print('param', param.shape)\n",
    "  print()"
   ]
  },
  {
   "cell_type": "code",
   "execution_count": 34,
   "metadata": {},
   "outputs": [
    {
     "name": "stdout",
     "output_type": "stream",
     "text": [
      "CNNMnist(\n",
      "  (conv1): Conv2d(3, 10, kernel_size=(5, 5), stride=(1, 1))\n",
      "  (conv2): Conv2d(10, 20, kernel_size=(5, 5), stride=(1, 1))\n",
      "  (conv2_drop): Dropout2d(p=0.5, inplace=False)\n",
      "  (fc1): Linear(in_features=320, out_features=50, bias=True)\n",
      "  (fc2): Linear(in_features=50, out_features=10, bias=True)\n",
      ")\n"
     ]
    }
   ],
   "source": [
    "net = CNNMnist(args)\n",
    "print(net)"
   ]
  },
  {
   "cell_type": "code",
   "execution_count": 35,
   "metadata": {},
   "outputs": [
    {
     "name": "stdout",
     "output_type": "stream",
     "text": [
      "MODULE CNNMnist(\n",
      "  (conv1): Conv2d(3, 10, kernel_size=(5, 5), stride=(1, 1))\n",
      "  (conv2): Conv2d(10, 20, kernel_size=(5, 5), stride=(1, 1))\n",
      "  (conv2_drop): Dropout2d(p=0.5, inplace=False)\n",
      "  (fc1): Linear(in_features=320, out_features=50, bias=True)\n",
      "  (fc2): Linear(in_features=50, out_features=10, bias=True)\n",
      ")\n",
      "param torch.Size([10, 3, 5, 5])\n",
      "param torch.Size([10])\n",
      "param torch.Size([20, 10, 5, 5])\n",
      "param torch.Size([20])\n",
      "param torch.Size([50, 320])\n",
      "param torch.Size([50])\n",
      "param torch.Size([10, 50])\n",
      "param torch.Size([10])\n",
      "\n",
      "MODULE Conv2d(3, 10, kernel_size=(5, 5), stride=(1, 1))\n",
      "param torch.Size([10, 3, 5, 5])\n",
      "param torch.Size([10])\n",
      "\n",
      "MODULE Conv2d(10, 20, kernel_size=(5, 5), stride=(1, 1))\n",
      "param torch.Size([20, 10, 5, 5])\n",
      "param torch.Size([20])\n",
      "\n",
      "MODULE Dropout2d(p=0.5, inplace=False)\n",
      "\n",
      "MODULE Linear(in_features=320, out_features=50, bias=True)\n",
      "param torch.Size([50, 320])\n",
      "param torch.Size([50])\n",
      "\n",
      "MODULE Linear(in_features=50, out_features=10, bias=True)\n",
      "param torch.Size([10, 50])\n",
      "param torch.Size([10])\n",
      "\n"
     ]
    }
   ],
   "source": [
    "for module in net.modules():\n",
    "  print('MODULE', module)\n",
    "  for param in module.parameters():\n",
    "    print('param', param.shape)\n",
    "  print()"
   ]
  },
  {
   "cell_type": "markdown",
   "metadata": {},
   "source": []
  },
  {
   "cell_type": "code",
   "execution_count": null,
   "metadata": {},
   "outputs": [],
   "source": []
  }
 ],
 "metadata": {
  "kernelspec": {
   "display_name": "example",
   "language": "python",
   "name": "example"
  },
  "language_info": {
   "codemirror_mode": {
    "name": "ipython",
    "version": 3
   },
   "file_extension": ".py",
   "mimetype": "text/x-python",
   "name": "python",
   "nbconvert_exporter": "python",
   "pygments_lexer": "ipython3",
   "version": "3.11.7"
  }
 },
 "nbformat": 4,
 "nbformat_minor": 2
}
